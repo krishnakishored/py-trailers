{
 "cells": [
  {
   "cell_type": "markdown",
   "metadata": {},
   "source": [
    " # Load in Numpy ($ pip install numpy)\n",
    "\n"
   ]
  },
  {
   "cell_type": "code",
   "execution_count": null,
   "metadata": {},
   "outputs": [],
   "source": [
    "# %%\n",
    "import numpy as np\n"
   ]
  },
  {
   "cell_type": "markdown",
   "metadata": {},
   "source": [
    " ## The Basics"
   ]
  },
  {
   "cell_type": "code",
   "execution_count": null,
   "metadata": {},
   "outputs": [],
   "source": [
    "# %%\n",
    "# a = np.array([1, 2, 3])\n",
    "# specify the datatype, default is int64\n",
    "a = np.array([1, 2, 3], dtype=\"int16\")\n",
    "print(\"a = \", a)\n",
    "b = np.array([[1, 2, 3], [4, 5, 6]], dtype=\"int16\")\n",
    "print(\"b = \", b)\n",
    "c = np.array(\n",
    "    [[[1, 2, 3], [4, 5, 6]], [[7, 8, 9], [10, 11, 12]]], dtype=\"int16\"\n",
    ")\n",
    "print(\"c = \", c)\n",
    "\n",
    "# Get Dimension\n",
    "print(\n",
    "    f\"Dimension of a: {a.ndim}\",\n",
    "    f\"Dimension of b: {b.ndim}\",\n",
    "    f\"Dimension of c: {c.ndim}\",\n",
    ")\n",
    "# Get Shape\n",
    "print(\n",
    "    f\"Shape of a: {a.shape}\",\n",
    "    f\"Shape of b: {b.shape}\",\n",
    "    f\"Shape of c: {c.shape}\",\n",
    ")\n",
    "# Get Type\n",
    "print(\n",
    "    f\"Type of a: {a.dtype}\", f\"Type of b: {b.dtype}\", f\"Type of c: {c.dtype}\"\n",
    ")\n",
    "# Get Itemsize\n",
    "print(\n",
    "    f\"Itemsize of a: {a.itemsize}\",\n",
    "    f\"Itemsize of b: {b.itemsize}\",\n",
    "    f\"Itemsize of c: {c.itemsize}\",\n",
    ")\n",
    "# Get Size\n",
    "print(f\"Size of a: {a.size}\", f\"Size of b: {b.size}\", f\"Size of c: {c.size}\")\n",
    "# Get Total Size\n",
    "print(\n",
    "    f\"Total Size of a: {a.size * a.itemsize}\",\n",
    "    f\"Total Size of b: {b.size * b.itemsize}\",\n",
    "    f\"Total Size of c: {c.size * c.itemsize}\",\n",
    ")\n"
   ]
  },
  {
   "cell_type": "markdown",
   "metadata": {},
   "source": [
    " ## Accessing/Changing specific elements, rows, columns, etc\n",
    "\n"
   ]
  },
  {
   "cell_type": "code",
   "execution_count": null,
   "metadata": {},
   "outputs": [],
   "source": [
    "# %%\n",
    "a = np.array(\n",
    "    [\n",
    "        [1, 2, 3, 4, 5, 6, 7, 8, 9, 10],\n",
    "        [11, 12, 13, 14, 15, 16, 17, 18, 19, 20],\n",
    "    ],\n",
    "    dtype=\"int16\",\n",
    ")\n",
    "print(\"a = \", a)\n",
    "# Get a specific element [r, c]\n",
    "print(a[1, 4])\n",
    "print(a[-1, -6])  # negative indexing also works\n",
    "# Get a segment [startindex:endindex:stepsize]\n",
    "print(a[0, 1:6:2])\n",
    "## Accessing a 3D array\n",
    "b = np.array(\n",
    "    [[[1, 2, 3], [4, 5, 6]], [[7, 8, 9], [10, 11, 12]]], dtype=\"int16\"\n",
    ")\n",
    "print(\"b = \", b, \"shape = \", b.shape)\n",
    "# set a specific element\n",
    "b[0, 1, 1] = 2000\n",
    "print(\"b = \", b)\n",
    "# Get a specific element (work outside in)\n",
    "print(\"specific element:\", b[0, 1, 1])\n",
    "\n",
    "# set a segment [startindex:endindex:stepsize]\n",
    "b[:, 1, :] = [[100, 101, 102], [103, 104, 105]]\n",
    "print(\"b = \", b)\n"
   ]
  },
  {
   "cell_type": "markdown",
   "metadata": {},
   "source": [
    " ## Initializing Different Types of Arrays\n",
    "\n"
   ]
  },
  {
   "cell_type": "code",
   "execution_count": null,
   "metadata": {},
   "outputs": [],
   "source": [
    "# %%\n",
    "# All 0s matrix\n",
    "print(np.zeros((2, 3, 2)))\n",
    "# All 1s matrix\n",
    "print(np.ones((2, 3, 2)))\n",
    "# Any other number\n",
    "print(np.full((2, 2), 99, dtype=\"float32\"))\n",
    "# Any other number (full_like)\n",
    "print(np.full_like(a, 4))\n",
    "# Random decimal numbers\n",
    "print(np.random.rand(4, 2))\n",
    "# Random Sample\n",
    "print(\"shape of a:\", a.shape)\n",
    "print(np.random.random_sample(a.shape))\n",
    "# Random Integer values\n",
    "print(np.random.randint(7, size=(3, 3)))\n",
    "# The identity matrix\n",
    "print(np.identity(3))\n",
    "# Repeat an array\n",
    "arr = np.array([[1, 2, 3]])\n",
    "r1 = np.repeat(arr, 3, axis=0)\n",
    "print(r1)\n",
    "\n",
    "## Challenge\n",
    "output = np.ones((5, 5), dtype=\"int16\")\n",
    "z = np.zeros((3, 3))\n",
    "z[1, 1] = 9\n",
    "output[1:4, 1:4] = z\n",
    "print(output)\n",
    "\n"
   ]
  },
  {
   "cell_type": "markdown",
   "metadata": {},
   "source": [
    " ## Be careful when copying arrays!"
   ]
  },
  {
   "cell_type": "code",
   "execution_count": null,
   "metadata": {},
   "outputs": [],
   "source": [
    "# %%\n",
    "l = np.array([1, 2, 3])\n",
    "print(l)\n",
    "# m = l # this will create a reference to l\n",
    "m = l.copy()\n",
    "m[0] = 100\n",
    "print(\"l = \", l)\n",
    "print(\"m = \", m)\n"
   ]
  },
  {
   "cell_type": "markdown",
   "metadata": {},
   "source": [
    " ## Mathematics"
   ]
  },
  {
   "cell_type": "code",
   "execution_count": null,
   "metadata": {},
   "outputs": [],
   "source": [
    "# %%\n",
    "a = np.array([1, 2, 3, 4], dtype=\"float32\")\n",
    "# a /= 2\n",
    "# a += 2\n",
    "a *= 2\n",
    "# a -= 2\n",
    "print(a)\n",
    "# Take the sin, cos, tan\n",
    "print(\"sin:\", np.sin(a), \"cos:\", np.cos(a), \"tan:\", np.tan(a))\n",
    "\n"
   ]
  },
  {
   "cell_type": "markdown",
   "metadata": {},
   "source": [
    " ## Linear Algebra\n",
    "\n",
    " ref: https://docs.scipy.org/doc/scipy/reference/linalg.html"
   ]
  },
  {
   "cell_type": "code",
   "execution_count": null,
   "metadata": {},
   "outputs": [],
   "source": [
    "# %%\n",
    "a = np.ones((2, 3))\n",
    "b = np.full((3, 2), 2)\n",
    "# a*b # ValueError: operands could not be broadcast together with shapes (2,3) (3,2)\n",
    "print(np.matmul(a, b))\n",
    "# find the determinant\n",
    "c = np.identity(3)\n",
    "print(np.linalg.det(c))\n"
   ]
  },
  {
   "cell_type": "markdown",
   "metadata": {},
   "source": [
    " ## Statistics"
   ]
  },
  {
   "cell_type": "code",
   "execution_count": null,
   "metadata": {},
   "outputs": [],
   "source": [
    "# %%\n",
    "stats = np.array([[1, 2, 3], [4, 5, 6]])\n",
    "print(\"min:\", np.min(stats))\n",
    "print(np.max(stats, axis=1))\n",
    "print(np.sum(stats, axis=0))\n",
    "print(np.sum(stats, axis=1))\n"
   ]
  },
  {
   "cell_type": "markdown",
   "metadata": {},
   "source": [
    " ## Reorganizing Arrays"
   ]
  },
  {
   "cell_type": "code",
   "execution_count": null,
   "metadata": {},
   "outputs": [],
   "source": [
    "# %%\n",
    "before = np.array([[1, 2, 3, 4], [5, 6, 7, 8]])\n",
    "after = before.reshape((2, 2, 2))\n",
    "print(after)\n",
    "\n",
    "## Vertically stacking vectors\n",
    "v1 = np.array([1, 2, 3, 4])\n",
    "v2 = np.array([5, 6, 7, 8])\n",
    "print(np.vstack([v1, v2, v1, v2]))\n",
    "## Horizontal  stack\n",
    "h1 = np.ones((2, 4))\n",
    "h2 = np.zeros((2, 2))\n",
    "print(np.hstack([h1, h2]))\n",
    "\n"
   ]
  },
  {
   "cell_type": "markdown",
   "metadata": {},
   "source": [
    " ## Miscellaneous"
   ]
  },
  {
   "cell_type": "code",
   "execution_count": null,
   "metadata": {},
   "outputs": [],
   "source": [
    "# %%\n",
    "# Load data from file\n",
    "filedata = np.genfromtxt(\"data.txt\", delimiter=\",\")\n",
    "filedata = filedata.astype(\"int32\")\n",
    "print(filedata)\n",
    "# Boolean Masking and Advanced Indexing\n",
    "print(filedata > 50)\n",
    "print(filedata[filedata > 50])\n",
    "# You can index with a list in NumPy\n",
    "a = np.array([1, 2, 3, 4, 5, 6, 7, 8, 9])\n",
    "print(a[[1, 2, 8]])\n",
    "# Any value greater than 50\n",
    "print(np.any(filedata > 50, axis=0))\n",
    "# All values greater than 50\n",
    "print(np.all(filedata > 50, axis=0))\n",
    "\n"
   ]
  },
  {
   "cell_type": "markdown",
   "metadata": {},
   "source": []
  }
 ],
 "metadata": {
  "language_info": {
   "codemirror_mode": {
    "name": "ipython",
    "version": 3
   },
   "file_extension": ".py",
   "mimetype": "text/x-python",
   "name": "python",
   "nbconvert_exporter": "python",
   "pygments_lexer": "ipython3",
   "version": 3
  }
 },
 "nbformat": 4,
 "nbformat_minor": 2
}
